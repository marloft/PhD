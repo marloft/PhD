{
 "cells": [
  {
   "cell_type": "code",
   "execution_count": 12,
   "metadata": {
    "collapsed": false
   },
   "outputs": [
    {
     "name": "stdout",
     "output_type": "stream",
     "text": [
      "Healthy\n",
      "Fever\n",
      "[{'Healthy': 0.3, 'Fever': 0.04000000000000001}, {}]\n",
      "0.084\n",
      "0.027\n",
      "[{'Healthy': 0.3, 'Fever': 0.04000000000000001}, {'Healthy': 0.084, 'Fever': 0.027}, {}]\n",
      "0.00588\n",
      "0.01512\n",
      "         0          1          2\n",
      "Healthy: 0.30000 0.08400 0.00588\n",
      "Fever: 0.04000 0.02700 0.01512\n",
      "['Healthy']\n",
      "['Healthy', 'Healthy']\n",
      "['Healthy', 'Healthy', 'Fever']\n",
      "The steps of states are Healthy Healthy Fever with highest probability of 0.01512\n"
     ]
    }
   ],
   "source": [
    "\"\"\"https://en.wikipedia.org/wiki/Viterbi_algorithm\n",
    "\n",
    "The patient visits three days in a row and the doctor discovers that on the first day \n",
    "she feels normal, on the second day she feels cold, on the third day she feels dizzy. \n",
    "The doctor has a question: what is the most likely sequence of health conditions of \n",
    "the patient that would explain these observations? \n",
    "This is answered by the Viterbi algorithm.\n",
    "\n",
    "In this piece of code, start_probability represents the doctor's belief \n",
    "about which state the HMM is in when the patient first visits \n",
    "(all he knows is that the patient tends to be healthy). \n",
    "The particular probability distribution used here is not the equilibrium one, \n",
    "which is (given the transition probabilities) \n",
    "approximately {'Healthy': 0.57, 'Fever': 0.43}. \n",
    "The transition_probability represents the change of the health condition in \n",
    "the underlying Markov chain. In this example, there is only a 30% chance that \n",
    "tomorrow the patient will have a fever if he is healthy today. The emission_probability \n",
    "represents how likely the patient is to feel on each day. If he is healthy, there is a \n",
    "50% chance that he feels normal; if he has a fever, there is a 60% chance that he feels dizzy.\n",
    "\"\"\"\n",
    "\n",
    "\n",
    "states = ('Healthy', 'Fever')\n",
    "observations = ('normal', 'cold', 'dizzy')\n",
    "start_probability = {'Healthy': 0.6, 'Fever': 0.4} #Doctor's belief about start_probability represents the doctor's belief about which state the HMM is in when the patient first visits (all he knows is that the patient tends to be healthy)\"\"\"\n",
    "transition_probability = { \n",
    "    'Healthy' : {'Healthy': 0.7, 'Fever': 0.3},\n",
    "    'Fever' : {'Healthy': 0.4, 'Fever': 0.6}\n",
    "    } #The transition_probability represents the change of the health condition in the underlying Markov chain. In this example, there is only a 30% chance that tomorrow the patient will have a fever if he is healthy today\n",
    "emission_probability = {\n",
    "    'Healthy' : {'normal': 0.5, 'cold': 0.4, 'dizzy': 0.1},\n",
    "    'Fever' : {'normal': 0.1, 'cold': 0.3, 'dizzy': 0.6}\n",
    "    } #The emission_probability represents how likely the patient is to feel on each day. If he is healthy, there is a 50% chance that he feels normal; if he has a fever, there is a 60% chance that he feels dizzy.\n",
    "\n",
    "def viterbi(obs, states, start_p, trans_p, emit_p):\n",
    "    V = [{}]\n",
    "    for i in states:\n",
    "        V[0][i] = start_p[i]*emit_p[i][obs[0]]\n",
    "        print i\n",
    "    # Run Viterbi when t > 0\n",
    "    for t in range(1, len(obs)):\n",
    "        V.append({})\n",
    "        print V\n",
    "        for y in states:\n",
    "            prob = max(V[t - 1][y0]*trans_p[y0][y]*emit_p[y][obs[t]] for y0 in states)\n",
    "            V[t][y] = prob\n",
    "            print prob\n",
    "    for i in dptable(V):\n",
    "        print i\n",
    "    opt = []\n",
    "    for j in V:\n",
    "        for x, y in j.items():\n",
    "            if j[x] == max(j.values()):\n",
    "                opt.append(x)\n",
    "                print opt\n",
    "    # The highest probability\n",
    "    h = max(V[-1].values())\n",
    "    print 'The steps of states are ' + ' '.join(opt) + ' with highest probability of %s'%h \n",
    "\n",
    "def dptable(V):\n",
    "    # Print a table of steps from dictionary\n",
    "    yield \" \".join((\"%10d\" % i) for i in range(len(V)))\n",
    "    for y in V[0]:\n",
    "        yield \"%.7s: \" % y+\" \".join(\"%.7s\" % (\"%f\" % v[y]) for v in V)\n",
    "        \n",
    "viterbi(observations, states, start_probability, transition_probability, emission_probability)"
   ]
  },
  {
   "cell_type": "code",
   "execution_count": null,
   "metadata": {
    "collapsed": true
   },
   "outputs": [],
   "source": []
  }
 ],
 "metadata": {
  "kernelspec": {
   "display_name": "Python 2",
   "language": "python",
   "name": "python2"
  },
  "language_info": {
   "codemirror_mode": {
    "name": "ipython",
    "version": 2
   },
   "file_extension": ".py",
   "mimetype": "text/x-python",
   "name": "python",
   "nbconvert_exporter": "python",
   "pygments_lexer": "ipython2",
   "version": "2.7.11"
  }
 },
 "nbformat": 4,
 "nbformat_minor": 0
}
